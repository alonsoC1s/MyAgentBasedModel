{
 "cells": [
  {
   "cell_type": "code",
   "execution_count": null,
   "metadata": {},
   "outputs": [],
   "source": [
    "using DifferentialEquations\n",
    "using LinearAlgebra\n",
    "using Plots\n",
    "\n",
    "#=  TODO:\n",
    "Left to be done for now so I can focus on the more important task of answering\n",
    "question. The idea is to implement the sde in an agent-by-agent basis and try to\n",
    "solve it with DifferentialEquations.\n",
    "=#\n",
    "function agent_agent_drift()\n",
    "end"
   ]
  }
 ],
 "metadata": {
  "kernelspec": {
   "display_name": "Julia 1.9.2",
   "language": "julia",
   "name": "julia-1.9"
  },
  "language_info": {
   "file_extension": ".jl",
   "mimetype": "application/julia",
   "name": "julia",
   "version": "1.9.2"
  },
  "orig_nbformat": 4
 },
 "nbformat": 4,
 "nbformat_minor": 2
}

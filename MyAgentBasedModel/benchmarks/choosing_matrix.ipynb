{
  "cells": [
    {
      "cell_type": "raw",
      "metadata": {},
      "source": [
        "---\n",
        "title: final questions\n",
        "---"
      ],
      "id": "e9a4b4e4"
    },
    {
      "cell_type": "markdown",
      "metadata": {},
      "source": [
        "The operations done on the adjacency matrices are of the form:\n"
      ],
      "id": "34eb1e77"
    },
    {
      "cell_type": "code",
      "metadata": {},
      "source": [
        "#| eval: false\n",
        "julia> neighboors = findall(A[j, :])\n",
        "julia> media_idx = findfirst(B[i, :])\n",
        "julia> ms_followers = Network[:, m] |> findall\n",
        "julia> audience_m = findall(B[:, m])"
      ],
      "id": "b282208f",
      "execution_count": null,
      "outputs": []
    },
    {
      "cell_type": "markdown",
      "metadata": {},
      "source": [
        "Some are row-wise, some are col-wise. What can be done with the shape of the\n",
        "matrices when using sparse matrix?\n"
      ],
      "id": "aac43011"
    },
    {
      "cell_type": "code",
      "metadata": {},
      "source": [
        "using Pkg\n",
        "Pkg.activate(\"../.\")"
      ],
      "id": "31b7e857",
      "execution_count": null,
      "outputs": []
    },
    {
      "cell_type": "code",
      "metadata": {},
      "source": [
        "using DataFrames, BenchmarkTools\n",
        "\n",
        "function rowwise_find(A)\n",
        "    for r = eachrow(A)\n",
        "        findall(r)\n",
        "    end\n",
        "end\n",
        "\n",
        "function colwise_find(A)\n",
        "    for c = eachcol(A)\n",
        "        findall(c)\n",
        "    end\n",
        "end\n",
        "\n",
        "n = 1000\n",
        "m = 4\n",
        "p = 0.4\n",
        "\n",
        "# Times in ns\n",
        "col_tall = @benchmark colwise_find(A) setup=(A = sprand(Bool, n, m, p))\n",
        "row_tall = @benchmark rowwise_find(A) setup=(A = sprand(Bool, n, m, p))\n",
        "col_wide = @benchmark colwise_find(A) setup=(A = sprand(Bool, m, n, p))\n",
        "row_wide = @benchmark rowwise_find(A) setup=(A = sprand(Bool, m, n, p))"
      ],
      "id": "89d5e36a",
      "execution_count": null,
      "outputs": []
    },
    {
      "cell_type": "code",
      "metadata": {},
      "source": [
        "# Dumping into a dataframe\n",
        "alltimes = DataFrame(time=Float64[], method=String[])\n",
        "for (trial, tname) in zip([col_tall, row_tall, col_wide, row_wide], [\"tall by_col\", \"tall by_row\", \"wide by_col\", \"wide by_row\"])\n",
        "    append!(alltimes,\n",
        "        DataFrame(time = trial.times / 1e3, method = fill(tname, length(trial.times)))\n",
        "    )\n",
        "end"
      ],
      "id": "6ab05a99",
      "execution_count": null,
      "outputs": []
    },
    {
      "cell_type": "markdown",
      "metadata": {},
      "source": [
        "The graph\n"
      ],
      "id": "3df2394c"
    },
    {
      "cell_type": "code",
      "metadata": {},
      "source": [
        "using Gadfly\n",
        "\n",
        "Gadfly.plot(alltimes, x = :time,\n",
        "    color = :method,\n",
        "    Geom.histogram,\n",
        "    Guide.colorkey(title = \"Method\"),\n",
        "    Scale.x_log10\n",
        ")"
      ],
      "id": "576ac437",
      "execution_count": null,
      "outputs": []
    }
  ],
  "metadata": {
    "kernelspec": {
      "name": "julia-1.9",
      "language": "julia",
      "display_name": "Julia 1.9.2"
    }
  },
  "nbformat": 4,
  "nbformat_minor": 5
}